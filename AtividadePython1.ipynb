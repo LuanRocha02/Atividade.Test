{
  "nbformat": 4,
  "nbformat_minor": 0,
  "metadata": {
    "colab": {
      "provenance": [],
      "authorship_tag": "ABX9TyMTSuPF1BWD6DzoKs1k+zWy",
      "include_colab_link": true
    },
    "kernelspec": {
      "name": "python3",
      "display_name": "Python 3"
    },
    "language_info": {
      "name": "python"
    }
  },
  "cells": [
    {
      "cell_type": "markdown",
      "metadata": {
        "id": "view-in-github",
        "colab_type": "text"
      },
      "source": [
        "<a href=\"https://colab.research.google.com/github/LuanRocha02/Atividade.Test/blob/main/AtividadePython1.ipynb\" target=\"_parent\"><img src=\"https://colab.research.google.com/assets/colab-badge.svg\" alt=\"Open In Colab\"/></a>"
      ]
    },
    {
      "cell_type": "code",
      "source": [
        "num=int(input('digite dinheiro(em dolar):'))\n",
        "print('US${} = R${}'.format(num, num * 5,64))"
      ],
      "metadata": {
        "colab": {
          "base_uri": "https://localhost:8080/"
        },
        "id": "kMTr_eLXy_DP",
        "outputId": "55f96839-d48d-4a49-a71e-cf191145853e"
      },
      "execution_count": null,
      "outputs": [
        {
          "output_type": "stream",
          "name": "stdout",
          "text": [
            "digite dinheiro(em dolar):500\n",
            "US$500 = R$2500\n"
          ]
        }
      ]
    },
    {
      "cell_type": "code",
      "source": [
        "base=float(input('digite um valor: '))\n",
        "altura=float(input('digite um valor: '))\n",
        "print('Area={}m²'.format(base*altura))\n",
        "print('litro de tinta a se utilizar {:.2f} litros'.format(base*altura/2))"
      ],
      "metadata": {
        "colab": {
          "base_uri": "https://localhost:8080/"
        },
        "id": "4PDbN2mH3g7a",
        "outputId": "d5dd3a26-200e-4aa7-ec2e-c9b4326d0e6f"
      },
      "execution_count": null,
      "outputs": [
        {
          "output_type": "stream",
          "name": "stdout",
          "text": [
            "digite um valor: 1.2\n",
            "digite um valor: 2.6\n",
            "Area=3.12m²\n",
            "litro de tinta a se utilizar 1.56 litros\n"
          ]
        }
      ]
    },
    {
      "cell_type": "code",
      "source": [
        "Valor=float(input('valor da peça de roupa: '))\n",
        "print('A peça com 5% de desconto é R${:.2f}'.format(Valor-(Valor*0.05)))"
      ],
      "metadata": {
        "colab": {
          "base_uri": "https://localhost:8080/"
        },
        "id": "awPeHvdJ6HaU",
        "outputId": "2701a04d-df25-45a3-c0a1-e7305068a874"
      },
      "execution_count": null,
      "outputs": [
        {
          "output_type": "stream",
          "name": "stdout",
          "text": [
            "valor da peça de roupa: 45.45\n",
            "A peça com 5% de desconto é R$43.18\n"
          ]
        }
      ]
    },
    {
      "cell_type": "code",
      "source": [
        "Salario=float(input('digite seu salario:r$ '))\n",
        "print('Novo salario R${:.2f}'. format(Salario+(Salario*0.15)))"
      ],
      "metadata": {
        "colab": {
          "base_uri": "https://localhost:8080/"
        },
        "id": "r7TogNWX705n",
        "outputId": "beeba0ce-e187-4e3f-cbc8-a3709197821b"
      },
      "execution_count": null,
      "outputs": [
        {
          "output_type": "stream",
          "name": "stdout",
          "text": [
            "digite seu salario:r$ 16482.45\n",
            "Novo salario R$18954.82\n"
          ]
        }
      ]
    },
    {
      "cell_type": "code",
      "source": [
        "import math\n",
        "num=int(input('digite um numero '))\n",
        "num2=int(input('digite um numero '))\n",
        "print('A hipotenusa é {:.2f}'.format(math.hypot(num,num2)))\n"
      ],
      "metadata": {
        "colab": {
          "base_uri": "https://localhost:8080/"
        },
        "id": "ZGT0PlzQ83M2",
        "outputId": "6533d035-ca1e-4609-b488-aa767114b803"
      },
      "execution_count": null,
      "outputs": [
        {
          "output_type": "stream",
          "name": "stdout",
          "text": [
            "digite um numero 6\n",
            "digite um numero 8\n",
            "A hipotenusa é 10.00\n"
          ]
        }
      ]
    },
    {
      "cell_type": "code",
      "source": [
        "from math import sin,cos,tan,radians\n",
        "Angulo=float(input('digite um valor em graus '))\n",
        "seno=sin(radians(Angulo))\n",
        "cosseno=cos(radians(Angulo))\n",
        "tangente=tan(radians(Angulo))\n",
        "print('seno é {:.2f}'.format(seno))\n",
        "print('seno é {:.2f}'.format(cosseno))\n",
        "print('tang é {:.2f}'.format(tangente))"
      ],
      "metadata": {
        "colab": {
          "base_uri": "https://localhost:8080/"
        },
        "id": "Fli4ienXTDRn",
        "outputId": "9b7cc0d9-198a-42db-cac3-737b8542a175"
      },
      "execution_count": null,
      "outputs": [
        {
          "output_type": "stream",
          "name": "stdout",
          "text": [
            "digite um valor em graus 60\n",
            "seno é 0.87\n",
            "seno é 0.50\n",
            "tang é 1.73\n"
          ]
        }
      ]
    },
    {
      "cell_type": "code",
      "source": [
        "import random\n",
        "n1=str(input('digite um nome: '))\n",
        "n2=str(input('digite um nome: '))\n",
        "n3=str(input('digite um nome: '))\n",
        "n4=str(input('digite um nome: '))\n",
        "lista= [n1,n2,n3,n4]\n",
        "escolhido= random.choice(lista)\n",
        "print('o aluno escolhido foi {}'.format(escolhido))\n"
      ],
      "metadata": {
        "colab": {
          "base_uri": "https://localhost:8080/"
        },
        "id": "VHOFXIBoVeg1",
        "outputId": "874aea52-5193-47a8-a5a3-b7f159a07946"
      },
      "execution_count": null,
      "outputs": [
        {
          "output_type": "stream",
          "name": "stdout",
          "text": [
            "digite um nome: Pedro\n",
            "digite um nome: Ana\n",
            "digite um nome: Maria\n",
            "digite um nome: Jose\n",
            "o aluno escolhido foi Maria\n"
          ]
        }
      ]
    },
    {
      "cell_type": "code",
      "source": [
        "import random\n",
        "n1=str(input('digite um nome: '))\n",
        "n2=str(input('digite um nome: '))\n",
        "n3=str(input('digite um nome: '))\n",
        "n4=str(input('digite um nome: '))\n",
        "lista=[n1,n2,n3,n4]\n",
        "random.shuffle(lista)\n",
        "print('A ordem de apresentação será')\n",
        "print(lista)\n",
        "\n"
      ],
      "metadata": {
        "colab": {
          "base_uri": "https://localhost:8080/"
        },
        "id": "JuwxqWD7w0NA",
        "outputId": "38403ff0-a6e2-49e2-8022-1e7ef048aac6"
      },
      "execution_count": null,
      "outputs": [
        {
          "output_type": "stream",
          "name": "stdout",
          "text": [
            "digite um nome: joao\n",
            "digite um nome: maria\n",
            "digite um nome: jose\n",
            "digite um nome: ana\n",
            "A ordem de apresnetação será\n",
            "['joao', 'maria', 'ana', 'jose']\n"
          ]
        }
      ]
    },
    {
      "cell_type": "code",
      "source": [
        "\n",
        "'''import pygame\n",
        "pygame.init()\n",
        "pygame.mixer.music.load\n",
        "pygame.mixer.music.play\n",
        "pygame.event.wait()'''"
      ],
      "metadata": {
        "colab": {
          "base_uri": "https://localhost:8080/",
          "height": 35
        },
        "id": "9nhFw_F3y408",
        "outputId": "68f16201-789f-443e-ac41-cc2daeec9bbf"
      },
      "execution_count": null,
      "outputs": [
        {
          "output_type": "execute_result",
          "data": {
            "text/plain": [
              "'import pygame\\npygame.init()\\npygame.mixer.music.load\\npygame.mixer.music.play\\npygame.event.wait()'"
            ],
            "application/vnd.google.colaboratory.intrinsic+json": {
              "type": "string"
            }
          },
          "metadata": {},
          "execution_count": 382
        }
      ]
    },
    {
      "cell_type": "code",
      "source": [
        "n=float(10**(-15))\n",
        "print('{}'.format(n))"
      ],
      "metadata": {
        "colab": {
          "base_uri": "https://localhost:8080/"
        },
        "id": "9cT7NUqSBoNe",
        "outputId": "2c93c087-fdb9-42e2-ef5f-3c70b141dc2a"
      },
      "execution_count": null,
      "outputs": [
        {
          "output_type": "stream",
          "name": "stdout",
          "text": [
            "1e-15\n"
          ]
        }
      ]
    },
    {
      "cell_type": "code",
      "source": [
        "'''calcular velocidade'''\n",
        "v0=float(input('digite velocidade inicial (em m/s) '))\n",
        "a=float(input('digite a aceleração(em m/s²): ' ))\n",
        "t=int(input('digite o tempo(em segundos): '))\n",
        "V= v0 + (a * t)\n",
        "print('O valor da velocidade é {}m/s'.format(V))\n",
        "print('o valor da velocidade em {:.2f}km/h'.format(V * 3.6))"
      ],
      "metadata": {
        "colab": {
          "base_uri": "https://localhost:8080/"
        },
        "id": "ivcSaKIuPFZ7",
        "outputId": "fb65c8e0-6117-47ee-a2ab-f62b2db809d8"
      },
      "execution_count": null,
      "outputs": [
        {
          "output_type": "stream",
          "name": "stdout",
          "text": [
            "digite velocidade inicial (em m/s) 3\n",
            "digite a aceleração(em m/s²): 5\n",
            "digite o tempo(em segundos): 10\n",
            "O valor da velocidade é 53.0m/s\n",
            "o valor da velocidade em 190.80km/h\n"
          ]
        }
      ]
    },
    {
      "cell_type": "code",
      "source": [
        "S0=float(input('Distancia inicial(m): '))\n",
        "v=float(input('velocidade que se encontra(m/s): '))\n",
        "t=int(input('tempo em segundos: '))\n",
        "S= S0 + (v * t)\n",
        "print('A distancia percorrida é {}m'.format(S))"
      ],
      "metadata": {
        "colab": {
          "base_uri": "https://localhost:8080/"
        },
        "id": "yNzhQNANSWm7",
        "outputId": "94fa82cc-777f-444c-90e6-dfdc70121c65"
      },
      "execution_count": null,
      "outputs": [
        {
          "output_type": "stream",
          "name": "stdout",
          "text": [
            "Distancia inicial(m): 0\n",
            "velocidade que se encontra(m/s): 5\n",
            "tempo em segundos: 120\n",
            "A distancia percorrida é 600.0m\n"
          ]
        }
      ]
    },
    {
      "cell_type": "code",
      "source": [
        "S0=float(input('Distancia incial em metros: '))\n",
        "V0=float(input('Velocidade inicial em m/s: '))\n",
        "t=int(input('tempo em segundos: '))\n",
        "a=float(input('aceleraçao em m/s²: '))\n",
        "S= S0 + V0 * t + (a * t**2)/2\n",
        "print('Distancia em mruv é {}m'. format(S))"
      ],
      "metadata": {
        "colab": {
          "base_uri": "https://localhost:8080/"
        },
        "id": "rJB5ydx4bPoL",
        "outputId": "8bf41b6f-57a0-4f71-da4b-995bf9326c43"
      },
      "execution_count": null,
      "outputs": [
        {
          "output_type": "stream",
          "name": "stdout",
          "text": [
            "Distancia incial em metros: 2\n",
            "Velocidade inicial em m/s: 2\n",
            "tempo em segundos: 20\n",
            "aceleraçao em m/s²: 2\n",
            "Distancia em mruv é 442.0m\n"
          ]
        }
      ]
    },
    {
      "cell_type": "code",
      "source": [
        "'''calcular comprimento da circurferencia'''\n",
        "from math import pi\n",
        "R=float(input('Digite o raio: '))\n",
        "C= 2*R*pi\n",
        "print('A valor da circuferencia é {:.0f}'.format(C))\n"
      ],
      "metadata": {
        "colab": {
          "base_uri": "https://localhost:8080/"
        },
        "id": "BoBGg5mndLXh",
        "outputId": "5a36ddb6-2e77-4d93-c9e1-6f9a19de9979"
      },
      "execution_count": null,
      "outputs": [
        {
          "output_type": "stream",
          "name": "stdout",
          "text": [
            "Digite o raio: 5\n",
            "A valor da circuferencia é 31\n"
          ]
        }
      ]
    },
    {
      "cell_type": "code",
      "source": [
        "#calcular velocidade media\n",
        "S=float(input('Distancia final em metros: '))\n",
        "S0=float(input('Distancia inicial em metros: '))\n",
        "T=int(input('tempo final: '))\n",
        "T0=int(input('tempo inicial: '))\n",
        "Vm=(S - S0)/(T - T0)\n",
        "print('A velociade media é {:.2f}m/s'.format(Vm))\n",
        "print('A velocidade em é {:.2f}km/h'. format(Vm * 3.6))"
      ],
      "metadata": {
        "colab": {
          "base_uri": "https://localhost:8080/"
        },
        "id": "v9ESKxZCeivi",
        "outputId": "9038ba7b-9725-432c-de8e-c80d3a21a6a6"
      },
      "execution_count": 15,
      "outputs": [
        {
          "output_type": "stream",
          "name": "stdout",
          "text": [
            "Distancia final em metros: 150000000\n",
            "Distancia inicial em metros: 0\n",
            "tempo final: 480\n",
            "tempo inicial: 0\n",
            "A velociade media é 312500.00m/s\n",
            "A velocidade em é 1125000.00km/h\n"
          ]
        }
      ]
    },
    {
      "cell_type": "code",
      "source": [
        "''' converter temperatura de c° para f°'''\n",
        "c=float(input('temperatura em celsius: '))\n",
        "f= c/5 * 9 + 32\n",
        "k= c + 273\n",
        "print('a temperatura em f° é {:.2f} , e a temperatura absoluta é {} kelvin'.format(f,k))"
      ],
      "metadata": {
        "colab": {
          "base_uri": "https://localhost:8080/"
        },
        "id": "B_veqcW4iLd_",
        "outputId": "90f600b8-fd71-45e2-c33c-cf72e766cf3d"
      },
      "execution_count": 12,
      "outputs": [
        {
          "output_type": "stream",
          "name": "stdout",
          "text": [
            "temperatura em celsius: -273\n",
            "a temperatura em f° é -459.40 , e a temperatura absoluta é 0.0 kelvin\n"
          ]
        }
      ]
    },
    {
      "cell_type": "code",
      "source": [
        "from os.path import split\n",
        "frase=input('digite uma frase: ')\n",
        "a=frase.upper()\n",
        "b=frase.lower()\n",
        "c=len(frase.split())\n",
        "d=len(frase.strip())\n",
        "print(a)\n",
        "print(b)\n",
        "print(c)\n",
        "print(d)"
      ],
      "metadata": {
        "colab": {
          "base_uri": "https://localhost:8080/"
        },
        "id": "do63i5EK37-r",
        "outputId": "a784e39b-7059-457a-83d7-57fcb091a015"
      },
      "execution_count": null,
      "outputs": [
        {
          "output_type": "stream",
          "name": "stdout",
          "text": [
            "digite uma frase: Ola mundo\n",
            "OLA MUNDO\n",
            "ola mundo\n",
            "2\n",
            "9\n"
          ]
        }
      ]
    },
    {
      "cell_type": "code",
      "source": [
        "nome=str(input('Digite seu nome completo: ')).strip()\n",
        "print('Anasilando nome...')\n",
        "print('Seu nome em maiusculas é {}'.format(nome.upper()))\n",
        "print('Seu nome em minusulas é {}'.format(nome.lower()))\n",
        "print('Seu nome tem ao todo {} letras'.format(len(nome) - nome.count('  ')))\n",
        "separa= nome.split()\n",
        "print('Seu primeiro nome é {} e ele tem {} letras'.format(separa[0], len(separa[0])))"
      ],
      "metadata": {
        "colab": {
          "base_uri": "https://localhost:8080/"
        },
        "id": "UX2kHP8bexZ4",
        "outputId": "45f6eca0-00b0-45d6-c5c5-2f2f5e6ac310"
      },
      "execution_count": null,
      "outputs": [
        {
          "output_type": "stream",
          "name": "stdout",
          "text": [
            "Digite seu nome completo: Ana maria pedro cardoso\n",
            "Anasilando nome...\n",
            "Seu nome em maiusculas é ANA MARIA PEDRO CARDOSO\n",
            "Seu nome em minusulas é ana maria pedro cardoso\n",
            "Seu nome tem ao todo 23 letras\n",
            "Seu primeiro nome é Ana e ele tem 3 letras\n"
          ]
        }
      ]
    },
    {
      "cell_type": "code",
      "source": [
        "num=int(input('Digite um numero: '))\n",
        "u=num //1 % 10\n",
        "d=num //10 % 10\n",
        "c=num //100 % 10\n",
        "m=num// 1000 % 10\n",
        "print('Analisando o numero {} '.format(num))\n",
        "print('Unidade: {}'.format(u))\n",
        "print('dezena: {}'.format(d))\n",
        "print('centena: {}'.format(c))\n",
        "print('milhar: {}'.format(m))"
      ],
      "metadata": {
        "colab": {
          "base_uri": "https://localhost:8080/"
        },
        "id": "BW8gZVRJq72r",
        "outputId": "3cac24ce-f92c-4f40-bad5-879ccf856af7"
      },
      "execution_count": null,
      "outputs": [
        {
          "output_type": "stream",
          "name": "stdout",
          "text": [
            "Digite um numero: 45\n",
            "Analisando o numero 45 \n",
            "Unidade: 5\n",
            "dezena: 4\n",
            "centena: 0\n",
            "milhar: 0\n"
          ]
        }
      ]
    },
    {
      "cell_type": "code",
      "source": [
        "cid=str(input('Informe o nome de uma cidade: ')).strip()\n",
        "print(cid[0:5].upper() == 'SANTO')\n",
        "print(cid[0:5].lower() == 'santo')"
      ],
      "metadata": {
        "colab": {
          "base_uri": "https://localhost:8080/"
        },
        "id": "D5dRAX5dv7l-",
        "outputId": "8a8235f9-9d27-4aba-9069-dc8cd2a40c30"
      },
      "execution_count": null,
      "outputs": [
        {
          "output_type": "stream",
          "name": "stdout",
          "text": [
            "Informe o nome de uma cidade: santo\n",
            "True\n",
            "True\n"
          ]
        }
      ]
    },
    {
      "cell_type": "code",
      "source": [
        "nome=str(input('Digite seu nome completo: ')).strip()\n",
        "print('Seu nome tem silva? {}'.format('silva' in nome.lower()))"
      ],
      "metadata": {
        "colab": {
          "base_uri": "https://localhost:8080/"
        },
        "id": "OHunj9NGxLxt",
        "outputId": "a9cab949-3b81-41ed-a200-3f73ebf25fe5"
      },
      "execution_count": null,
      "outputs": [
        {
          "output_type": "stream",
          "name": "stdout",
          "text": [
            "Digite seu nome completo: ana silva\n",
            "Seu nome tem silva? True\n"
          ]
        }
      ]
    },
    {
      "cell_type": "code",
      "source": [
        "frase=str(input('Escreva uma frase: ')).upper().strip()\n",
        "print('A frase poussui {} a'.format(frase.count('A')))\n",
        "print('A primeira letra A apareceu na posiçao {}'.format(frase.find('A')+1))\n",
        "print('A ultima letra A aprareceu na posição {}'.format(frase.rfind('A')+1))"
      ],
      "metadata": {
        "colab": {
          "base_uri": "https://localhost:8080/"
        },
        "id": "RAyL0h1L4rfk",
        "outputId": "b2f335b1-b969-47e6-bb5e-ef8c73ebaa0b"
      },
      "execution_count": null,
      "outputs": [
        {
          "output_type": "stream",
          "name": "stdout",
          "text": [
            "Escreva uma frase: Arara azul       \n",
            "A frase poussui 4 a\n",
            " A primeira letra A apareceu na posiçao 1\n",
            "A ultima letra A aprareceu na posição 7\n"
          ]
        }
      ]
    },
    {
      "cell_type": "code",
      "source": [
        "n=str(input('Informe seu nome completo: ')).strip()\n",
        "nome= n.split()\n",
        "print('A primeiro nome é {}'.format(nome[0]))\n",
        "print('Seu ultimo nome é {}'.format(nome[len(nome)-1]))"
      ],
      "metadata": {
        "colab": {
          "base_uri": "https://localhost:8080/"
        },
        "id": "NHXb3qeJ8hXX",
        "outputId": "b06c735c-dc2d-4101-9e8f-cf921ac1de90"
      },
      "execution_count": null,
      "outputs": [
        {
          "output_type": "stream",
          "name": "stdout",
          "text": [
            "Informe seu nome completo: ana maria macedo pinto da silva pereira\n",
            "A primeiro nome é ana\n",
            "Seu ultimo nome é pereira\n"
          ]
        }
      ]
    },
    {
      "cell_type": "code",
      "source": [
        "tempo=int(input('Quantos anos tem seu carro? '))\n",
        "if tempo <= 3:\n",
        "  print('Carro novo')\n",
        "else: \n",
        "  print('Carro antigo')"
      ],
      "metadata": {
        "colab": {
          "base_uri": "https://localhost:8080/"
        },
        "id": "5dZuIicaAdjk",
        "outputId": "f59a8457-65f8-4279-8c9e-977fa6299222"
      },
      "execution_count": null,
      "outputs": [
        {
          "output_type": "stream",
          "name": "stdout",
          "text": [
            "Quantos anos tem seu carro? 5\n",
            "Carro antigo\n"
          ]
        }
      ]
    },
    {
      "cell_type": "code",
      "source": [
        "from prompt_toolkit.shortcuts.progress_bar.base import E\n",
        "n1=float(input('Digite a primeira nota: '))\n",
        "n2=float(input('Digite a segunda nota: '))\n",
        "m=(n1 + n2)/2\n",
        "print('Sua média é {}'.format(m))\n",
        "if m <=5:\n",
        "   print('reprovado,ESTUDE MAIS!')\n",
        "else:\n",
        "   print('Parábens aprovado')\n",
        "print('...fim...')\n"
      ],
      "metadata": {
        "colab": {
          "base_uri": "https://localhost:8080/"
        },
        "id": "drkJY46XUvDL",
        "outputId": "5b7e3a7c-9cb6-4cf7-fd04-46e9e9460a43"
      },
      "execution_count": 7,
      "outputs": [
        {
          "output_type": "stream",
          "name": "stdout",
          "text": [
            "Digite a primeira nota: 4\n",
            "Digite a segunda nota: 6\n",
            "Sua média é 5.0\n",
            "reprovado,ESTUDE MAIS!\n",
            "...fim...\n"
          ]
        }
      ]
    },
    {
      "cell_type": "code",
      "source": [
        "import random\n",
        "a=str(input('Digite um numero: '))\n",
        "n=['1','2','3','4','5']\n",
        "p=random.choice(n)\n",
        "if p==a:\n",
        "   print('voce ganhou')\n",
        "print('Esse é meu valor {}'.format(a))\n",
        " "
      ],
      "metadata": {
        "colab": {
          "base_uri": "https://localhost:8080/"
        },
        "id": "4GDIvq3SWZQK",
        "outputId": "5d78b022-55a2-4c68-fc3d-e3731753f38f"
      },
      "execution_count": null,
      "outputs": [
        {
          "output_type": "stream",
          "name": "stdout",
          "text": [
            "Digite um numero: 4\n",
            "Esse é meu valor 4\n"
          ]
        }
      ]
    },
    {
      "cell_type": "code",
      "source": [
        "from random import randint\n",
        "from time import sleep\n",
        "computador= randint(0, 5)\n",
        "print('-=-'*20)\n",
        "print('Vou pensar em um numero entre 0 e 5. Tente adivinhar...')\n",
        "print('-=-'*20)\n",
        "jogador=int(input('Em que número eu pensei? '))\n",
        "print('PROCESSANDO...')\n",
        "sleep(3)\n",
        "if jogador==computador:\n",
        "  print('PARABÉNS! Você conseguiu me vencer!')\n",
        "else:\n",
        "  print('Ganhei! Eu pensei no número {} e não no {}!'.format(computador,jogador))"
      ],
      "metadata": {
        "colab": {
          "base_uri": "https://localhost:8080/"
        },
        "id": "x2RMduG81NEp",
        "outputId": "944faa2d-54e4-4193-8655-308b38cc3c0f"
      },
      "execution_count": null,
      "outputs": [
        {
          "output_type": "stream",
          "name": "stdout",
          "text": [
            "-=--=--=--=--=--=--=--=--=--=--=--=--=--=--=--=--=--=--=--=-\n",
            "Vou pensar em um numero entre 0 e 5. Tente adivinhar...\n",
            "-=--=--=--=--=--=--=--=--=--=--=--=--=--=--=--=--=--=--=--=-\n",
            "Em que número eu pensei? 5\n",
            "PROCESSANDO...\n",
            "Ganhei! Eu pensei no número 3 e não no 5!\n"
          ]
        }
      ]
    },
    {
      "cell_type": "code",
      "source": [
        "v=int(input('Velocidade do carro em km/h: '))\n",
        "if v<=80:\n",
        "  print('Velocidade segura')\n",
        "else:\n",
        "  print('Velocidade acima do permitido multa de R${:.2f}'.format((v-80)*7))\n"
      ],
      "metadata": {
        "colab": {
          "base_uri": "https://localhost:8080/"
        },
        "id": "La1Je4HDdYPZ",
        "outputId": "af65a1f4-920c-4d49-be0b-9447d7e3fb3d"
      },
      "execution_count": null,
      "outputs": [
        {
          "output_type": "stream",
          "name": "stdout",
          "text": [
            "Velocidade do carro em km/h: 80\n",
            "Velocidade segura\n"
          ]
        }
      ]
    },
    {
      "cell_type": "code",
      "source": [
        "n=int(input('Digite um numero qualquer: '))\n",
        "resto= n%2\n",
        "if resto == 0:\n",
        "  print('O numero é par')\n",
        "else:\n",
        "  print('O número é impar')"
      ],
      "metadata": {
        "colab": {
          "base_uri": "https://localhost:8080/"
        },
        "id": "XZ1qYMpLiS99",
        "outputId": "0d3b8ee6-690f-42c5-d704-12e8e18b9ac8"
      },
      "execution_count": null,
      "outputs": [
        {
          "output_type": "stream",
          "name": "stdout",
          "text": [
            "Digite um numero qualquer: 55\n",
            "O número é impar\n"
          ]
        }
      ]
    },
    {
      "cell_type": "code",
      "source": [
        "d=float(input('Digite a distancia a ser percorrida em km: '))\n",
        "if d<=200:\n",
        "  print('Valor da passagem é R${:.2f}'.format(d*0.5))\n",
        "else:\n",
        "  print('Valor da passagem será de R${:.2f}'.format(d*0.45))\n",
        "  "
      ],
      "metadata": {
        "colab": {
          "base_uri": "https://localhost:8080/"
        },
        "id": "emAIyDo9lCGd",
        "outputId": "267e766c-b845-4158-c896-81a2047dc729"
      },
      "execution_count": null,
      "outputs": [
        {
          "output_type": "stream",
          "name": "stdout",
          "text": [
            "Digite a distancia a ser percorrida em km: 210\n",
            "Valor da passagem será de R$94.50\n"
          ]
        }
      ]
    },
    {
      "cell_type": "code",
      "source": [
        "from datetime import date\n",
        "ano=int(input('Informe o valor do ano: '))\n",
        "if ano == 0:\n",
        " ano=date.today().year\n",
        "if ano % 4 == 0 and ano % 100 !=0 or ano %400 == 0:\n",
        "  print('O ano é bissexto')\n",
        "else:\n",
        " print('O ano não é bissexto')"
      ],
      "metadata": {
        "colab": {
          "base_uri": "https://localhost:8080/"
        },
        "id": "SY8N_wvWm2et",
        "outputId": "4bf5723d-48be-4071-8eea-c4b1c2b6c8ac"
      },
      "execution_count": null,
      "outputs": [
        {
          "output_type": "stream",
          "name": "stdout",
          "text": [
            "Informe o valor do ano: 0\n",
            "O ano não é bissexto\n"
          ]
        }
      ]
    },
    {
      "cell_type": "code",
      "source": [
        "a=int(input('Informe um numero '))\n",
        "b=int(input('Informe um numero '))\n",
        "c=int(input('Informe um numero '))\n",
        "menor=a\n",
        "if b < a and b < c:\n",
        "  menor = b\n",
        "if c < a and c < b:\n",
        "  menor = c\n",
        "maior=a\n",
        "if b > a and b > c:\n",
        "  maior=b\n",
        "if c > a and c > b:\n",
        "  maior=c   \n",
        "print('O menor valor é {}'.format(menor))\n",
        "print('O maior valor é {}'.format(maior))"
      ],
      "metadata": {
        "colab": {
          "base_uri": "https://localhost:8080/"
        },
        "id": "7AdgDBjeowoC",
        "outputId": "90ab0fa2-c655-4b45-91be-29081709deb8"
      },
      "execution_count": null,
      "outputs": [
        {
          "output_type": "stream",
          "name": "stdout",
          "text": [
            "Informe um numero5\n",
            "Informe um numero4\n",
            "Informe um numero6\n",
            "O menor valor é 4\n",
            "O maior valor é 6\n"
          ]
        }
      ]
    },
    {
      "cell_type": "code",
      "source": [
        "s=float(input('Valor do seu salario: '))\n",
        "if s<=1250:\n",
        "  print('Seu novo salario será de R${:.2f}'.format((s*0.15)+s))\n",
        "else:\n",
        "  print('Seu novo salario será de R${:.2f}'.format((s*0.1)+s))"
      ],
      "metadata": {
        "colab": {
          "base_uri": "https://localhost:8080/"
        },
        "id": "Wck_CtmlqGUP",
        "outputId": "e205248b-ddcc-4436-ed46-e621b576386b"
      },
      "execution_count": null,
      "outputs": [
        {
          "output_type": "stream",
          "name": "stdout",
          "text": [
            "Valor do seu salario: 1000\n",
            "Seu novo salario será de R$1150.00\n"
          ]
        }
      ]
    },
    {
      "cell_type": "code",
      "source": [
        "a=float(input('Informe um numero '))\n",
        "b=float(input('Informe um numero '))\n",
        "c=float(input('Informe um numero '))\n",
        "if a< b + c and b< a+ c and c< b+a:\n",
        "  print('Os valores formam um triangulo')\n",
        "else:\n",
        "  print('Não forma um triangulo')\n",
        " \n"
      ],
      "metadata": {
        "colab": {
          "base_uri": "https://localhost:8080/"
        },
        "id": "_2Cbop8Qwxrw",
        "outputId": "bb8bf6d0-0eb2-49f1-ecbd-46f4ec0233c2"
      },
      "execution_count": null,
      "outputs": [
        {
          "output_type": "stream",
          "name": "stdout",
          "text": [
            "Informe um numero 2\n",
            "Informe um numero 3\n",
            "Informe um numero 4\n",
            "Os valores formam um triangulo\n"
          ]
        }
      ]
    },
    {
      "cell_type": "code",
      "source": [
        "print('\\033[7;34;40mOla mundo!!')"
      ],
      "metadata": {
        "colab": {
          "base_uri": "https://localhost:8080/"
        },
        "id": "Fa52wcSzzEQT",
        "outputId": "6d90d50c-3dd1-421e-ca2e-c74646746524"
      },
      "execution_count": null,
      "outputs": [
        {
          "output_type": "stream",
          "name": "stdout",
          "text": [
            "\u001b[7;34;40mOla mundo!!\n"
          ]
        }
      ]
    },
    {
      "cell_type": "code",
      "source": [
        "n=(3*5)+4**2\n",
        "print(n)\n"
      ],
      "metadata": {
        "colab": {
          "base_uri": "https://localhost:8080/"
        },
        "id": "p2acZpPtaGw-",
        "outputId": "f70ded8e-2faf-4822-e14e-c0ef99cc80ee"
      },
      "execution_count": null,
      "outputs": [
        {
          "output_type": "stream",
          "name": "stdout",
          "text": [
            "31\n"
          ]
        }
      ]
    },
    {
      "cell_type": "code",
      "source": [
        "bool(1)"
      ],
      "metadata": {
        "colab": {
          "base_uri": "https://localhost:8080/"
        },
        "id": "36SG01Ura2wX",
        "outputId": "3182db5c-4c22-4877-94ef-6e1884d9be4d"
      },
      "execution_count": null,
      "outputs": [
        {
          "output_type": "execute_result",
          "data": {
            "text/plain": [
              "True"
            ]
          },
          "metadata": {},
          "execution_count": 25
        }
      ]
    },
    {
      "cell_type": "code",
      "source": [
        "n=19%2\n",
        "print(n)"
      ],
      "metadata": {
        "colab": {
          "base_uri": "https://localhost:8080/"
        },
        "id": "tKP3Dg1JbpBB",
        "outputId": "73cbc6bb-26c8-4e98-9179-4a2a498ec4e3"
      },
      "execution_count": null,
      "outputs": [
        {
          "output_type": "stream",
          "name": "stdout",
          "text": [
            "1\n"
          ]
        }
      ]
    },
    {
      "cell_type": "code",
      "source": [
        "x=str('curso de python no cursoemvideo')\n",
        "print(x[:5])"
      ],
      "metadata": {
        "colab": {
          "base_uri": "https://localhost:8080/"
        },
        "id": "Gt8LShTncOIk",
        "outputId": "cb857681-c58d-413e-d39a-b3667828a035"
      },
      "execution_count": null,
      "outputs": [
        {
          "output_type": "stream",
          "name": "stdout",
          "text": [
            "curso\n"
          ]
        }
      ]
    },
    {
      "cell_type": "code",
      "source": [
        "g=float((3+25/3)/2)\n",
        "print('O valor de g é {:.2f}'.format(g))"
      ],
      "metadata": {
        "colab": {
          "base_uri": "https://localhost:8080/"
        },
        "id": "oKaX44A-RlZ8",
        "outputId": "c2d525bf-ce46-48cf-fc65-f255a85997ee"
      },
      "execution_count": 3,
      "outputs": [
        {
          "output_type": "stream",
          "name": "stdout",
          "text": [
            "O valor de g é 5.67\n"
          ]
        }
      ]
    },
    {
      "cell_type": "code",
      "source": [],
      "metadata": {
        "id": "JggCTOl_CiOC"
      },
      "execution_count": null,
      "outputs": []
    }
  ]
}